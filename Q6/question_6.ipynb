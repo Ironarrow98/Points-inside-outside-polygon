{
 "cells": [
  {
   "cell_type": "markdown",
   "metadata": {
    "id": "E_d_WykpfVtW"
   },
   "source": [
    "is_in(): check a point is in a polygon by using ray-casting algorithm\n",
    "\n",
    "Input:  \n",
    "\n",
    "*   P: the point in the form of [x, y] (list of number)\n",
    "*   E: list of all vertices of the polygon in counter-clockwise order, every two vertices next to each other is an edge (list of list of number)\n",
    "\n",
    "Results: \n",
    "\n",
    "* 0: the point is outside the polygon\n",
    "* 1: the point is inside the polygon\n"
   ]
  },
  {
   "cell_type": "code",
   "execution_count": 1,
   "metadata": {
    "id": "s-BYd-nPo8yX"
   },
   "outputs": [],
   "source": [
    "def is_in(P, E):\n",
    "  # check the number of times ray cross the edge\n",
    "  count = 0    \n",
    "  # connect the last vertex with the first vertex\n",
    "  E.append(E[0])\n",
    "  for i in range(len(E) - 1):   \n",
    "    # check if upward crossing or downward crossing\n",
    "    if ((E[i][1] <= P[1] and E[i + 1][1] > P[1]) or (E[i][1] > P[1] and E[i + 1][1] <= P[1])): \n",
    "      # check the x-cord\n",
    "      vt = (P[1] - E[i][1]) / float(E[i + 1][1] - E[i][1])\n",
    "      if P[0] < E[i][0] + vt * (E[i + 1][0] - E[i][0]): \n",
    "        count += 1  \n",
    "  # if even means outside, if odd means inside\n",
    "  return count % 2   \n"
   ]
  },
  {
   "cell_type": "code",
   "execution_count": 2,
   "metadata": {
    "id": "I9O3_yG9yZBX"
   },
   "outputs": [],
   "source": [
    "E = []\n",
    "points = []\n",
    "\n",
    "f = open(\"input_data/input_question_6_polygon\", \"r\")\n",
    "for line in f.readlines():\n",
    "  P = []\n",
    "  p = line.split(' ')\n",
    "  for i in range(len(p)):\n",
    "    if p[i] != '\\n':\n",
    "      P.append(int(p[i]))\n",
    "  if P != []:\n",
    "    E.append(P)\n",
    "f.close()\n",
    "\n",
    "f = open(\"input_data/input_question_6_points\", \"r\")\n",
    "for line in f.readlines():\n",
    "  P = []\n",
    "  p = line.split(' ')\n",
    "  for i in range(len(p)):\n",
    "    if p[i] != '\\n':\n",
    "      P.append(int(p[i]))\n",
    "  if P != []:\n",
    "    points.append(P)\n",
    "f.close()\n",
    "\n",
    "f = open(\"output_data/output_question_6\", \"w\")\n",
    "for P in points:\n",
    "  result = is_in(P, E)\n",
    "  sP = [str(int) for int in P]\n",
    "  s = \" \".join(sP)\n",
    "  if result > 0:\n",
    "    s += \" inside\"\n",
    "  else:\n",
    "    s += \" outside\"\n",
    "  s += \"\\n\"\n",
    "  f.write(s)\n",
    "f.close()\n"
   ]
  }
 ],
 "metadata": {
  "colab": {
   "collapsed_sections": [],
   "name": "question_6.ipynb",
   "provenance": []
  },
  "kernelspec": {
   "display_name": "Python 3",
   "language": "python",
   "name": "python3"
  },
  "language_info": {
   "codemirror_mode": {
    "name": "ipython",
    "version": 3
   },
   "file_extension": ".py",
   "mimetype": "text/x-python",
   "name": "python",
   "nbconvert_exporter": "python",
   "pygments_lexer": "ipython3",
   "version": "3.8.3"
  }
 },
 "nbformat": 4,
 "nbformat_minor": 1
}
